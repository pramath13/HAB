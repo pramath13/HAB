{
 "cells": [
  {
   "cell_type": "code",
   "execution_count": 2,
   "metadata": {
    "collapsed": true
   },
   "outputs": [],
   "source": [
    "import numpy as np\n",
    "import scipy as sp"
   ]
  },
  {
   "cell_type": "code",
   "execution_count": 3,
   "metadata": {
    "collapsed": false
   },
   "outputs": [],
   "source": [
    "def to_dbm(power):\n",
    "    return 10*np.log10(power / 0.001)\n",
    "\n",
    "def from_dbm(power_dbm):\n",
    "    return (10**(power_dbm/10)) * 0.001\n",
    "\n",
    "wavelength = 2\n",
    "\n",
    "# assuming isotropic antennas\n",
    "Gt = 1\n",
    "Gr = 1\n",
    "\n",
    "# assuming bandwidth of 2MHz\n",
    "noise_floor_dbm = -174 + 10*np.log10(2e6)\n",
    "SNR = 10*np.log10(1e9)\n",
    "\n",
    "minimum_detectable_signal_dbm = -80"
   ]
  },
  {
   "cell_type": "code",
   "execution_count": 4,
   "metadata": {
    "collapsed": false
   },
   "outputs": [
    {
     "name": "stdout",
     "output_type": "stream",
     "text": [
      "Distance for acceptable LOS path loss: 27.566 km\n",
      "Distance for acceptable LOS path loss: 90441 ft\n"
     ]
    }
   ],
   "source": [
    "Pt = 300e-3\n",
    "Pr = from_dbm(minimum_detectable_signal_dbm)\n",
    "path_loss = Pr / Pt\n",
    "\n",
    "# sanity check\n",
    "assert np.isclose(from_dbm(to_dbm(Pt)), Pt)\n",
    "\n",
    "# Friis Transmissino Eqn.\n",
    "R = np.sqrt((wavelength**2 * Gt * Gr) / ((4 * np.pi)**2 * path_loss))\n",
    "R_ft = R * 3.2808399\n",
    "\n",
    "print(\"Distance for acceptable LOS path loss: {0} km\".format(int(R) / 1000))\n",
    "print(\"Distance for acceptable LOS path loss: {0} ft\".format(int(R_ft)))"
   ]
  },
  {
   "cell_type": "code",
   "execution_count": null,
   "metadata": {
    "collapsed": true
   },
   "outputs": [],
   "source": []
  }
 ],
 "metadata": {
  "kernelspec": {
   "display_name": "Python 3",
   "language": "python",
   "name": "python3"
  },
  "language_info": {
   "codemirror_mode": {
    "name": "ipython",
    "version": 3
   },
   "file_extension": ".py",
   "mimetype": "text/x-python",
   "name": "python",
   "nbconvert_exporter": "python",
   "pygments_lexer": "ipython3",
   "version": "3.6.0"
  }
 },
 "nbformat": 4,
 "nbformat_minor": 2
}
