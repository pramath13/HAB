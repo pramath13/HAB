{
 "cells": [
  {
   "cell_type": "code",
   "execution_count": 62,
   "metadata": {
    "collapsed": false
   },
   "outputs": [],
   "source": [
    "def get_lat_dms_from_nmea(nmea):\n",
    "    N_index = nmea.find(\"N\")\n",
    "    return nmea[:N_index]\n",
    "\n",
    "def get_long_dms_from_nmea(nmea):\n",
    "    slash_index = nmea.find(\"/\")\n",
    "    return nmea[slash_index+1:-1]\n",
    "\n",
    "def dms_to_decimal(dms):\n",
    "    minute = float(dms[-5:])\n",
    "    degree = int(dms[:-5])\n",
    "    return degree + minute / 60\n",
    "\n",
    "def build_lat_long(lat, long):\n",
    "    return str(lat) + \" N, \" + str(long) + \" W\"\n",
    "\n",
    "def nmea_to_lat_long(nmea):\n",
    "    return build_lat_long(dms_to_decimal(get_lat_dms_from_nmea(nmea)), dms_to_decimal(get_long_dms_from_nmea(nmea)))\n",
    "\n",
    "def parse_line(line):\n",
    "    start = line.find(\"h\") + 1\n",
    "    end = line.find(\"W\", start)\n",
    "    if(end == -1):\n",
    "        print(\"Invalid coordinates\")\n",
    "        return 0\n",
    "    nmea = line[start:end+1]\n",
    "    return nmea"
   ]
  },
  {
   "cell_type": "code",
   "execution_count": 63,
   "metadata": {
    "collapsed": false
   },
   "outputs": [
    {
     "name": "stdout",
     "output_type": "stream",
     "text": [
      "37.87416666666667 N, 122.258 W\n"
     ]
    }
   ],
   "source": [
    "nmea = \"3752.45N/12215.48W\"\n",
    "\n",
    "print(nmea_to_lat_long(nmea))"
   ]
  },
  {
   "cell_type": "code",
   "execution_count": 65,
   "metadata": {
    "collapsed": false
   },
   "outputs": [
    {
     "name": "stdout",
     "output_type": "stream",
     "text": [
      "Invalid coordinates\n",
      "Invalid coordinates\n",
      "Invalid coordinates\n",
      "Invalid coordinates\n",
      "Invalid coordinates\n",
      "Invalid coordinates\n",
      "Invalid coordinates\n",
      "37.874 N, 122.258 W\n",
      "37.874 N, 122.258 W\n",
      "37.874 N, 122.258 W\n"
     ]
    }
   ],
   "source": [
    "with open(\"a.log\", \"r\") as f:\n",
    "    for line in f:\n",
    "        nmea = parse_line(line)\n",
    "        if(nmea != 0):\n",
    "            print(nmea_to_lat_long(nmea))\n"
   ]
  },
  {
   "cell_type": "code",
   "execution_count": null,
   "metadata": {
    "collapsed": true
   },
   "outputs": [],
   "source": []
  }
 ],
 "metadata": {
  "kernelspec": {
   "display_name": "Python 3",
   "language": "python",
   "name": "python3"
  },
  "language_info": {
   "codemirror_mode": {
    "name": "ipython",
    "version": 3
   },
   "file_extension": ".py",
   "mimetype": "text/x-python",
   "name": "python",
   "nbconvert_exporter": "python",
   "pygments_lexer": "ipython3",
   "version": "3.6.0"
  }
 },
 "nbformat": 4,
 "nbformat_minor": 2
}
